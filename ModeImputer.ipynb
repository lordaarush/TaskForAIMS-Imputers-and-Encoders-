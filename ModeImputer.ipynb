{
  "nbformat": 4,
  "nbformat_minor": 0,
  "metadata": {
    "colab": {
      "provenance": [],
      "authorship_tag": "ABX9TyOrJSuXelrguxr2JqPzQ6XO",
      "include_colab_link": true
    },
    "kernelspec": {
      "name": "python3",
      "display_name": "Python 3"
    },
    "language_info": {
      "name": "python"
    }
  },
  "cells": [
    {
      "cell_type": "markdown",
      "metadata": {
        "id": "view-in-github",
        "colab_type": "text"
      },
      "source": [
        "<a href=\"https://colab.research.google.com/github/lordaarush/TaskForAIMS-Imputers-and-Encoders-/blob/main/ModeImputer.ipynb\" target=\"_parent\"><img src=\"https://colab.research.google.com/assets/colab-badge.svg\" alt=\"Open In Colab\"/></a>"
      ]
    },
    {
      "cell_type": "code",
      "execution_count": 3,
      "metadata": {
        "id": "jCs9ltHi-Pzu"
      },
      "outputs": [],
      "source": [
        "import pandas as pd\n",
        "import numpy as np"
      ]
    },
    {
      "cell_type": "code",
      "source": [
        "df = pd.DataFrame({'A': np.random.randint(0, 10, size=10),\n",
        "                   'B': np.random.randint(0, 10, size=10),\n",
        "                   'C': np.random.randint(0, 10, size=10)})\n",
        "df.loc[np.random.choice(df.index, size=3), :] = np.nan\n",
        "print(df)"
      ],
      "metadata": {
        "colab": {
          "base_uri": "https://localhost:8080/"
        },
        "id": "_nvKj-IU-RhD",
        "outputId": "ec574188-7cf0-46d6-e8a3-5ba0cd60f7b8"
      },
      "execution_count": 8,
      "outputs": [
        {
          "output_type": "stream",
          "name": "stdout",
          "text": [
            "     A    B    C\n",
            "0  7.0  9.0  2.0\n",
            "1  NaN  NaN  NaN\n",
            "2  6.0  2.0  5.0\n",
            "3  6.0  6.0  8.0\n",
            "4  7.0  9.0  4.0\n",
            "5  0.0  6.0  8.0\n",
            "6  7.0  4.0  5.0\n",
            "7  8.0  8.0  4.0\n",
            "8  NaN  NaN  NaN\n",
            "9  NaN  NaN  NaN\n"
          ]
        }
      ]
    },
    {
      "cell_type": "code",
      "source": [],
      "metadata": {
        "id": "4TjfwXYo-VAY"
      },
      "execution_count": null,
      "outputs": []
    },
    {
      "cell_type": "code",
      "source": [
        "for i in range(len(df.columns)):\n",
        "    print(i)\n",
        "    if df.iloc[:, i].isnull().values.any():\n",
        "        #mode\n",
        "        mode_value = df.iloc[:, i].mode()\n",
        "        for j in range(len(df)):\n",
        "            if pd.isnull(df.iloc[j, i]):\n",
        "                df.iloc[j, i] = mode_value\n",
        "\n",
        "print(df)"
      ],
      "metadata": {
        "colab": {
          "base_uri": "https://localhost:8080/"
        },
        "id": "f423vB3--VOi",
        "outputId": "8d7a83fa-4e6f-486b-c413-20313a3c2365"
      },
      "execution_count": 11,
      "outputs": [
        {
          "output_type": "stream",
          "name": "stdout",
          "text": [
            "0\n",
            "1\n",
            "2\n",
            "     A    B    C\n",
            "0  7.0  9.0  2.0\n",
            "1  7.0  6.0  4.0\n",
            "2  6.0  2.0  5.0\n",
            "3  6.0  6.0  8.0\n",
            "4  7.0  9.0  4.0\n",
            "5  0.0  6.0  8.0\n",
            "6  7.0  4.0  5.0\n",
            "7  8.0  8.0  4.0\n",
            "8  7.0  6.0  4.0\n",
            "9  7.0  6.0  4.0\n"
          ]
        }
      ]
    }
  ]
}