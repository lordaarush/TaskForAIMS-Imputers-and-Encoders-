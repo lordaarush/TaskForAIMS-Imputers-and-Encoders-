{
  "nbformat": 4,
  "nbformat_minor": 0,
  "metadata": {
    "colab": {
      "provenance": [],
      "authorship_tag": "ABX9TyN39IlHz/WHmHC8tmYACgNn",
      "include_colab_link": true
    },
    "kernelspec": {
      "name": "python3",
      "display_name": "Python 3"
    },
    "language_info": {
      "name": "python"
    }
  },
  "cells": [
    {
      "cell_type": "markdown",
      "metadata": {
        "id": "view-in-github",
        "colab_type": "text"
      },
      "source": [
        "<a href=\"https://colab.research.google.com/github/lordaarush/TaskForAIMS-Imputers-and-Encoders-/blob/main/OH_ENCODER.ipynb\" target=\"_parent\"><img src=\"https://colab.research.google.com/assets/colab-badge.svg\" alt=\"Open In Colab\"/></a>"
      ]
    },
    {
      "cell_type": "code",
      "execution_count": 1,
      "metadata": {
        "id": "TezOIudqzdMz"
      },
      "outputs": [],
      "source": [
        "import pandas as pd\n",
        "import numpy as np"
      ]
    },
    {
      "cell_type": "code",
      "source": [
        "data = {'Column1': ['A', 'B', 'A', 'C', 'B', 'C'],\n",
        "        'Column2': ['X', 'Y', 'Y', 'X', 'Z', 'Z'],\n",
        "        'Numeric': [10, 20, 15, 25, 18, 30]}\n",
        "df = pd.DataFrame(data)\n",
        "print(df)\n",
        "categorical_columns = ['Column1', 'Column2']\n",
        "OH_data = pd.get_dummies(df, columns=categorical_columns)\n",
        "print(OH_data)"
      ],
      "metadata": {
        "colab": {
          "base_uri": "https://localhost:8080/"
        },
        "id": "tqmROi4VzhKe",
        "outputId": "0bdcaeee-f81c-439c-92be-deb5e44396b2"
      },
      "execution_count": 9,
      "outputs": [
        {
          "output_type": "stream",
          "name": "stdout",
          "text": [
            "  Column1 Column2  Numeric\n",
            "0       A       X       10\n",
            "1       B       Y       20\n",
            "2       A       Y       15\n",
            "3       C       X       25\n",
            "4       B       Z       18\n",
            "5       C       Z       30\n",
            "   Numeric  Column1_A  Column1_B  Column1_C  Column2_X  Column2_Y  Column2_Z\n",
            "0       10          1          0          0          1          0          0\n",
            "1       20          0          1          0          0          1          0\n",
            "2       15          1          0          0          0          1          0\n",
            "3       25          0          0          1          1          0          0\n",
            "4       18          0          1          0          0          0          1\n",
            "5       30          0          0          1          0          0          1\n"
          ]
        }
      ]
    }
  ]
}