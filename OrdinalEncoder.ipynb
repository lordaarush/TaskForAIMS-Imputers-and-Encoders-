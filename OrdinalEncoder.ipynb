{
  "nbformat": 4,
  "nbformat_minor": 0,
  "metadata": {
    "colab": {
      "provenance": [],
      "authorship_tag": "ABX9TyMlDscGho2FVPL3wlWMBbQs",
      "include_colab_link": true
    },
    "kernelspec": {
      "name": "python3",
      "display_name": "Python 3"
    },
    "language_info": {
      "name": "python"
    }
  },
  "cells": [
    {
      "cell_type": "markdown",
      "metadata": {
        "id": "view-in-github",
        "colab_type": "text"
      },
      "source": [
        "<a href=\"https://colab.research.google.com/github/lordaarush/TaskForAIMS-Imputers-and-Encoders-/blob/main/OrdinalEncoder.ipynb\" target=\"_parent\"><img src=\"https://colab.research.google.com/assets/colab-badge.svg\" alt=\"Open In Colab\"/></a>"
      ]
    },
    {
      "cell_type": "code",
      "execution_count": 12,
      "metadata": {
        "colab": {
          "base_uri": "https://localhost:8080/"
        },
        "id": "JBxq5bRQ2Hoc",
        "outputId": "821560c6-5d80-4a13-e91f-cc19f1ab0ca5"
      },
      "outputs": [
        {
          "output_type": "stream",
          "name": "stdout",
          "text": [
            "   Numeric1  Category1\n",
            "0        10          0\n",
            "1        20          2\n",
            "2         8          1\n",
            "3         7          2\n",
            "4         6          0\n",
            "5        25          3\n",
            "6        18          1\n",
            "7        30          3\n"
          ]
        }
      ],
      "source": [
        "import pandas as pd\n",
        "\n",
        "# Create a sample dataframe with multiple numerical and categorical columns\n",
        "data = {'Numeric1': [10, 20, 8, 7, 6, 25, 18, 30],\n",
        "        'Category1': ['Never','Mostly', 'Rarely','Mostly', 'Never', 'Always', 'Rarely', 'Always']}\n",
        "df = pd.DataFrame(data)\n",
        "\n",
        "df['Category1'] = df['Category1'].astype('category').cat.set_categories(['Never', 'Rarely', 'Mostly', 'Always'], ordered=True).cat.codes\n",
        "\n",
        "# Display the result\n",
        "print(df)\n"
      ]
    }
  ]
}